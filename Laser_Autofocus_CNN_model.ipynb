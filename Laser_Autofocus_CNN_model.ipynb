{
 "cells": [
  {
   "cell_type": "markdown",
   "metadata": {},
   "source": [
    "## Import packages"
   ]
  },
  {
   "cell_type": "code",
   "execution_count": 1,
   "metadata": {},
   "outputs": [],
   "source": [
    "import tensorflow as tf\n",
    "from tensorflow.keras.models import Sequential\n",
    "from tensorflow.keras.layers import Dense, Activation, Flatten, Conv2D, MaxPooling2D, Dropout\n",
    "import pickle\n",
    "import matplotlib.pyplot as plt\n",
    "from sklearn.model_selection import train_test_split\n",
    "import numpy as np"
   ]
  },
  {
   "cell_type": "code",
   "execution_count": 2,
   "metadata": {},
   "outputs": [
    {
     "name": "stdout",
     "output_type": "stream",
     "text": [
      "keras      2.3.1\n",
      "tensorflow 2.5.0\n"
     ]
    },
    {
     "name": "stderr",
     "output_type": "stream",
     "text": [
      "Using TensorFlow backend.\n"
     ]
    }
   ],
   "source": [
    "import keras\n",
    "print(\"keras      {}\".format(keras.__version__))\n",
    "print(\"tensorflow {}\".format(tf.__version__))"
   ]
  },
  {
   "cell_type": "code",
   "execution_count": 3,
   "metadata": {},
   "outputs": [],
   "source": [
    "# Allocate a GPU\n",
    "import os\n",
    "os.environ['CUDA_VISIBLE_DEVICES']='0'"
   ]
  },
  {
   "cell_type": "markdown",
   "metadata": {},
   "source": [
    "## Load and prepare the images for training"
   ]
  },
  {
   "cell_type": "code",
   "execution_count": 4,
   "metadata": {},
   "outputs": [],
   "source": [
    "# Load the data stored as the pickle files\n",
    "pickle_in = open(\"Data_600px/X_Train_100kHz_01mms_600px.pickle\",\"rb\")\n",
    "X = pickle.load(pickle_in)\n",
    "\n",
    "pickle_in = open(\"Data_600px/y_Train_100kHz_01mms_600px.pickle\",\"rb\")\n",
    "y = pickle.load(pickle_in)\n",
    "\n",
    "# Normalize the pixel values in the images\n",
    "X = X/255.0"
   ]
  },
  {
   "cell_type": "code",
   "execution_count": 5,
   "metadata": {},
   "outputs": [
    {
     "name": "stdout",
     "output_type": "stream",
     "text": [
      "The shape of X is (2800, 600, 600, 1)\n"
     ]
    }
   ],
   "source": [
    "print(f'The shape of X is {X.shape}')"
   ]
  },
  {
   "cell_type": "code",
   "execution_count": 6,
   "metadata": {},
   "outputs": [],
   "source": [
    "# Prepare data for training\n",
    "X_train = X\n",
    "y_train = np.array(y)"
   ]
  },
  {
   "cell_type": "markdown",
   "metadata": {},
   "source": [
    "## CNN Regression Model"
   ]
  },
  {
   "cell_type": "code",
   "execution_count": 7,
   "metadata": {},
   "outputs": [
    {
     "name": "stdout",
     "output_type": "stream",
     "text": [
      "Model: \"sequential\"\n",
      "_________________________________________________________________\n",
      "Layer (type)                 Output Shape              Param #   \n",
      "=================================================================\n",
      "conv2d (Conv2D)              (None, 598, 598, 32)      320       \n",
      "_________________________________________________________________\n",
      "max_pooling2d (MaxPooling2D) (None, 199, 199, 32)      0         \n",
      "_________________________________________________________________\n",
      "conv2d_1 (Conv2D)            (None, 197, 197, 64)      18496     \n",
      "_________________________________________________________________\n",
      "max_pooling2d_1 (MaxPooling2 (None, 65, 65, 64)        0         \n",
      "_________________________________________________________________\n",
      "conv2d_2 (Conv2D)            (None, 63, 63, 64)        36928     \n",
      "_________________________________________________________________\n",
      "max_pooling2d_2 (MaxPooling2 (None, 21, 21, 64)        0         \n",
      "_________________________________________________________________\n",
      "conv2d_3 (Conv2D)            (None, 19, 19, 32)        18464     \n",
      "_________________________________________________________________\n",
      "max_pooling2d_3 (MaxPooling2 (None, 6, 6, 32)          0         \n",
      "_________________________________________________________________\n",
      "conv2d_4 (Conv2D)            (None, 4, 4, 16)          4624      \n",
      "_________________________________________________________________\n",
      "max_pooling2d_4 (MaxPooling2 (None, 1, 1, 16)          0         \n",
      "_________________________________________________________________\n",
      "flatten (Flatten)            (None, 16)                0         \n",
      "_________________________________________________________________\n",
      "dropout (Dropout)            (None, 16)                0         \n",
      "_________________________________________________________________\n",
      "dense (Dense)                (None, 1000)              17000     \n",
      "_________________________________________________________________\n",
      "dense_1 (Dense)              (None, 400)               400400    \n",
      "_________________________________________________________________\n",
      "dense_2 (Dense)              (None, 100)               40100     \n",
      "_________________________________________________________________\n",
      "dense_3 (Dense)              (None, 25)                2525      \n",
      "_________________________________________________________________\n",
      "dense_4 (Dense)              (None, 8)                 208       \n",
      "_________________________________________________________________\n",
      "dense_5 (Dense)              (None, 2)                 18        \n",
      "_________________________________________________________________\n",
      "dense_6 (Dense)              (None, 1)                 3         \n",
      "=================================================================\n",
      "Total params: 539,086\n",
      "Trainable params: 539,086\n",
      "Non-trainable params: 0\n",
      "_________________________________________________________________\n"
     ]
    }
   ],
   "source": [
    "# Build the Model\n",
    "model = Sequential()\n",
    "\n",
    "model.add(Conv2D(32, (3, 3), activation='relu', input_shape=X.shape[1:]))\n",
    "model.add(MaxPooling2D((3, 3)))\n",
    "\n",
    "model.add(Conv2D(64, (3, 3), activation='relu'))\n",
    "model.add(MaxPooling2D((3, 3)))\n",
    "\n",
    "model.add(Conv2D(64, (3, 3), activation='relu'))\n",
    "model.add(MaxPooling2D((3, 3)))\n",
    "\n",
    "model.add(Conv2D(32, (3, 3), activation='relu'))\n",
    "model.add(MaxPooling2D((3, 3)))\n",
    "\n",
    "model.add(Conv2D(16, (3, 3), activation='relu'))\n",
    "model.add(MaxPooling2D((3, 3)))\n",
    "\n",
    "model.add(Flatten())\n",
    "model.add(Dropout(0.2))\n",
    "\n",
    "model.add(Dense(1000))\n",
    "model.add(Dense(400))\n",
    "model.add(Dense(100))\n",
    "model.add(Dense(25))\n",
    "model.add(Dense(8))\n",
    "model.add(Dense(2))\n",
    "model.add(Dense(1, activation=None))\n",
    "model.summary()"
   ]
  },
  {
   "cell_type": "markdown",
   "metadata": {},
   "source": [
    "## Train and save the model"
   ]
  },
  {
   "cell_type": "code",
   "execution_count": 8,
   "metadata": {
    "scrolled": true
   },
   "outputs": [
    {
     "name": "stdout",
     "output_type": "stream",
     "text": [
      "Epoch 1/100\n",
      "123/123 [==============================] - 8s 41ms/step - loss: 6743.5078 - mean_squared_error: 6743.5078 - val_loss: 1588.3512 - val_mean_squared_error: 1588.3512\n",
      "Epoch 2/100\n",
      "123/123 [==============================] - 4s 33ms/step - loss: 1965.7671 - mean_squared_error: 1965.7671 - val_loss: 1930.4453 - val_mean_squared_error: 1930.4453\n",
      "Epoch 3/100\n",
      "123/123 [==============================] - 4s 33ms/step - loss: 1631.0734 - mean_squared_error: 1631.0734 - val_loss: 1423.9279 - val_mean_squared_error: 1423.9279\n",
      "Epoch 4/100\n",
      "123/123 [==============================] - 4s 33ms/step - loss: 1457.7185 - mean_squared_error: 1457.7185 - val_loss: 1023.3640 - val_mean_squared_error: 1023.3640\n",
      "Epoch 5/100\n",
      "123/123 [==============================] - 4s 33ms/step - loss: 1458.1084 - mean_squared_error: 1458.1084 - val_loss: 956.6802 - val_mean_squared_error: 956.6802\n",
      "Epoch 6/100\n",
      "123/123 [==============================] - 4s 33ms/step - loss: 1140.2532 - mean_squared_error: 1140.2532 - val_loss: 825.7685 - val_mean_squared_error: 825.7685\n",
      "Epoch 7/100\n",
      "123/123 [==============================] - 4s 33ms/step - loss: 1114.5560 - mean_squared_error: 1114.5560 - val_loss: 1335.0339 - val_mean_squared_error: 1335.0339\n",
      "Epoch 8/100\n",
      "123/123 [==============================] - 4s 33ms/step - loss: 1164.1411 - mean_squared_error: 1164.1411 - val_loss: 568.9557 - val_mean_squared_error: 568.9557\n",
      "Epoch 9/100\n",
      "123/123 [==============================] - 4s 33ms/step - loss: 926.0891 - mean_squared_error: 926.0891 - val_loss: 746.5959 - val_mean_squared_error: 746.5959\n",
      "Epoch 10/100\n",
      "123/123 [==============================] - 4s 33ms/step - loss: 908.1361 - mean_squared_error: 908.1361 - val_loss: 1367.8168 - val_mean_squared_error: 1367.8168\n",
      "Epoch 11/100\n",
      "123/123 [==============================] - 4s 33ms/step - loss: 867.7106 - mean_squared_error: 867.7106 - val_loss: 634.0020 - val_mean_squared_error: 634.0020\n",
      "Epoch 12/100\n",
      "123/123 [==============================] - 4s 34ms/step - loss: 704.9798 - mean_squared_error: 704.9798 - val_loss: 434.6051 - val_mean_squared_error: 434.6051\n",
      "Epoch 13/100\n",
      "123/123 [==============================] - 4s 34ms/step - loss: 765.4631 - mean_squared_error: 765.4631 - val_loss: 466.3871 - val_mean_squared_error: 466.3871\n",
      "Epoch 14/100\n",
      "123/123 [==============================] - 4s 34ms/step - loss: 687.3326 - mean_squared_error: 687.3326 - val_loss: 220.1818 - val_mean_squared_error: 220.1818\n",
      "Epoch 15/100\n",
      "123/123 [==============================] - 4s 33ms/step - loss: 672.9402 - mean_squared_error: 672.9402 - val_loss: 378.7956 - val_mean_squared_error: 378.7956\n",
      "Epoch 16/100\n",
      "123/123 [==============================] - 4s 33ms/step - loss: 739.0290 - mean_squared_error: 739.0290 - val_loss: 370.3455 - val_mean_squared_error: 370.3455\n",
      "Epoch 17/100\n",
      "123/123 [==============================] - 4s 33ms/step - loss: 548.3979 - mean_squared_error: 548.3979 - val_loss: 298.4533 - val_mean_squared_error: 298.4533\n",
      "Epoch 18/100\n",
      "123/123 [==============================] - 4s 33ms/step - loss: 561.6591 - mean_squared_error: 561.6591 - val_loss: 183.1729 - val_mean_squared_error: 183.1729\n",
      "Epoch 19/100\n",
      "123/123 [==============================] - 4s 33ms/step - loss: 554.1885 - mean_squared_error: 554.1885 - val_loss: 136.9757 - val_mean_squared_error: 136.9757\n",
      "Epoch 20/100\n",
      "123/123 [==============================] - 4s 33ms/step - loss: 577.3979 - mean_squared_error: 577.3979 - val_loss: 141.9830 - val_mean_squared_error: 141.9830\n",
      "Epoch 21/100\n",
      "123/123 [==============================] - 4s 33ms/step - loss: 524.0852 - mean_squared_error: 524.0852 - val_loss: 131.0022 - val_mean_squared_error: 131.0022\n",
      "Epoch 22/100\n",
      "123/123 [==============================] - 4s 33ms/step - loss: 522.8889 - mean_squared_error: 522.8889 - val_loss: 252.5109 - val_mean_squared_error: 252.5109\n",
      "Epoch 23/100\n",
      "123/123 [==============================] - 4s 33ms/step - loss: 557.9532 - mean_squared_error: 557.9532 - val_loss: 116.7313 - val_mean_squared_error: 116.7313\n",
      "Epoch 24/100\n",
      "123/123 [==============================] - 4s 33ms/step - loss: 558.6125 - mean_squared_error: 558.6125 - val_loss: 179.8476 - val_mean_squared_error: 179.8476\n",
      "Epoch 25/100\n",
      "123/123 [==============================] - 4s 33ms/step - loss: 552.1185 - mean_squared_error: 552.1185 - val_loss: 95.7298 - val_mean_squared_error: 95.7298\n",
      "Epoch 26/100\n",
      "123/123 [==============================] - 4s 33ms/step - loss: 496.4683 - mean_squared_error: 496.4683 - val_loss: 105.2903 - val_mean_squared_error: 105.2903\n",
      "Epoch 27/100\n",
      "123/123 [==============================] - 4s 33ms/step - loss: 548.7798 - mean_squared_error: 548.7798 - val_loss: 188.7885 - val_mean_squared_error: 188.7885\n",
      "Epoch 28/100\n",
      "123/123 [==============================] - 4s 33ms/step - loss: 502.7194 - mean_squared_error: 502.7194 - val_loss: 172.6436 - val_mean_squared_error: 172.6436\n",
      "Epoch 29/100\n",
      "123/123 [==============================] - 4s 33ms/step - loss: 501.1257 - mean_squared_error: 501.1257 - val_loss: 242.0316 - val_mean_squared_error: 242.0316\n",
      "Epoch 30/100\n",
      "123/123 [==============================] - 4s 33ms/step - loss: 457.8006 - mean_squared_error: 457.8006 - val_loss: 115.5937 - val_mean_squared_error: 115.5937\n",
      "Epoch 31/100\n",
      "123/123 [==============================] - 4s 33ms/step - loss: 473.0215 - mean_squared_error: 473.0215 - val_loss: 106.1228 - val_mean_squared_error: 106.1228\n",
      "Epoch 32/100\n",
      "123/123 [==============================] - 4s 33ms/step - loss: 513.4094 - mean_squared_error: 513.4094 - val_loss: 104.1184 - val_mean_squared_error: 104.1184\n",
      "Epoch 33/100\n",
      "123/123 [==============================] - 4s 33ms/step - loss: 499.8523 - mean_squared_error: 499.8523 - val_loss: 225.4449 - val_mean_squared_error: 225.4449\n",
      "Epoch 34/100\n",
      "123/123 [==============================] - 4s 33ms/step - loss: 504.1261 - mean_squared_error: 504.1261 - val_loss: 177.6284 - val_mean_squared_error: 177.6284\n",
      "Epoch 35/100\n",
      "123/123 [==============================] - 4s 33ms/step - loss: 511.0420 - mean_squared_error: 511.0420 - val_loss: 88.2812 - val_mean_squared_error: 88.2812\n",
      "Epoch 36/100\n",
      "123/123 [==============================] - 4s 33ms/step - loss: 493.4217 - mean_squared_error: 493.4217 - val_loss: 115.8545 - val_mean_squared_error: 115.8545\n",
      "Epoch 37/100\n",
      "123/123 [==============================] - 4s 34ms/step - loss: 498.7874 - mean_squared_error: 498.7874 - val_loss: 677.0546 - val_mean_squared_error: 677.0546\n",
      "Epoch 38/100\n",
      "123/123 [==============================] - 4s 33ms/step - loss: 464.9535 - mean_squared_error: 464.9535 - val_loss: 255.9551 - val_mean_squared_error: 255.9551\n",
      "Epoch 39/100\n",
      "123/123 [==============================] - 4s 33ms/step - loss: 503.8869 - mean_squared_error: 503.8869 - val_loss: 122.3147 - val_mean_squared_error: 122.3147\n",
      "Epoch 40/100\n",
      "123/123 [==============================] - 4s 33ms/step - loss: 463.0686 - mean_squared_error: 463.0686 - val_loss: 114.7892 - val_mean_squared_error: 114.7892\n",
      "Epoch 41/100\n",
      "123/123 [==============================] - 4s 33ms/step - loss: 473.3055 - mean_squared_error: 473.3055 - val_loss: 127.8920 - val_mean_squared_error: 127.8920\n",
      "Epoch 42/100\n",
      "123/123 [==============================] - 4s 33ms/step - loss: 457.9958 - mean_squared_error: 457.9958 - val_loss: 146.1362 - val_mean_squared_error: 146.1362\n",
      "Epoch 43/100\n",
      "123/123 [==============================] - 4s 33ms/step - loss: 497.4147 - mean_squared_error: 497.4147 - val_loss: 173.4353 - val_mean_squared_error: 173.4353\n",
      "Epoch 44/100\n",
      "123/123 [==============================] - 4s 33ms/step - loss: 501.7657 - mean_squared_error: 501.7657 - val_loss: 70.0277 - val_mean_squared_error: 70.0277\n",
      "Epoch 45/100\n",
      "123/123 [==============================] - 4s 33ms/step - loss: 448.9908 - mean_squared_error: 448.9908 - val_loss: 389.3426 - val_mean_squared_error: 389.3426\n",
      "Epoch 46/100\n",
      "123/123 [==============================] - 4s 33ms/step - loss: 464.0211 - mean_squared_error: 464.0211 - val_loss: 87.6344 - val_mean_squared_error: 87.6344\n",
      "Epoch 47/100\n",
      "123/123 [==============================] - 4s 33ms/step - loss: 490.4745 - mean_squared_error: 490.4745 - val_loss: 169.0222 - val_mean_squared_error: 169.0222\n",
      "Epoch 48/100\n",
      "123/123 [==============================] - 4s 33ms/step - loss: 471.6624 - mean_squared_error: 471.6624 - val_loss: 85.7601 - val_mean_squared_error: 85.7601\n",
      "Epoch 49/100\n",
      "123/123 [==============================] - 4s 33ms/step - loss: 479.2280 - mean_squared_error: 479.2280 - val_loss: 99.8274 - val_mean_squared_error: 99.8274\n",
      "Epoch 50/100\n",
      "123/123 [==============================] - 4s 33ms/step - loss: 487.0335 - mean_squared_error: 487.0335 - val_loss: 71.4534 - val_mean_squared_error: 71.4534\n",
      "Epoch 51/100\n",
      "123/123 [==============================] - 4s 33ms/step - loss: 413.3187 - mean_squared_error: 413.3187 - val_loss: 60.9506 - val_mean_squared_error: 60.9506\n",
      "Epoch 52/100\n",
      "123/123 [==============================] - 4s 33ms/step - loss: 481.9194 - mean_squared_error: 481.9194 - val_loss: 79.9278 - val_mean_squared_error: 79.9278\n",
      "Epoch 53/100\n",
      "123/123 [==============================] - 4s 33ms/step - loss: 451.2549 - mean_squared_error: 451.2549 - val_loss: 157.4074 - val_mean_squared_error: 157.4074\n",
      "Epoch 54/100\n",
      "123/123 [==============================] - 4s 33ms/step - loss: 502.0174 - mean_squared_error: 502.0174 - val_loss: 56.1079 - val_mean_squared_error: 56.1079\n",
      "Epoch 55/100\n",
      "123/123 [==============================] - 4s 34ms/step - loss: 459.9238 - mean_squared_error: 459.9238 - val_loss: 151.0491 - val_mean_squared_error: 151.0491\n",
      "Epoch 56/100\n",
      "123/123 [==============================] - 4s 33ms/step - loss: 479.3184 - mean_squared_error: 479.3184 - val_loss: 74.3044 - val_mean_squared_error: 74.3044\n",
      "Epoch 57/100\n",
      "123/123 [==============================] - 4s 33ms/step - loss: 440.7721 - mean_squared_error: 440.7721 - val_loss: 194.1114 - val_mean_squared_error: 194.1114\n",
      "Epoch 58/100\n",
      "123/123 [==============================] - 4s 33ms/step - loss: 500.3990 - mean_squared_error: 500.3990 - val_loss: 197.7651 - val_mean_squared_error: 197.7651\n",
      "Epoch 59/100\n",
      "123/123 [==============================] - 4s 33ms/step - loss: 490.4222 - mean_squared_error: 490.4222 - val_loss: 160.4830 - val_mean_squared_error: 160.4830\n",
      "Epoch 60/100\n",
      "123/123 [==============================] - 4s 33ms/step - loss: 459.2392 - mean_squared_error: 459.2392 - val_loss: 52.1789 - val_mean_squared_error: 52.1789\n",
      "Epoch 61/100\n",
      "123/123 [==============================] - 4s 33ms/step - loss: 425.6988 - mean_squared_error: 425.6988 - val_loss: 58.0464 - val_mean_squared_error: 58.0464\n",
      "Epoch 62/100\n",
      "123/123 [==============================] - 4s 33ms/step - loss: 430.8631 - mean_squared_error: 430.8631 - val_loss: 138.8165 - val_mean_squared_error: 138.8165\n",
      "Epoch 63/100\n",
      "123/123 [==============================] - 4s 33ms/step - loss: 452.0967 - mean_squared_error: 452.0967 - val_loss: 84.5252 - val_mean_squared_error: 84.5252\n",
      "Epoch 64/100\n",
      "123/123 [==============================] - 4s 33ms/step - loss: 520.9807 - mean_squared_error: 520.9807 - val_loss: 61.1603 - val_mean_squared_error: 61.1603\n",
      "Epoch 65/100\n",
      "123/123 [==============================] - 4s 33ms/step - loss: 507.5595 - mean_squared_error: 507.5595 - val_loss: 61.5319 - val_mean_squared_error: 61.5319\n",
      "Epoch 66/100\n",
      "123/123 [==============================] - 4s 34ms/step - loss: 485.3232 - mean_squared_error: 485.3232 - val_loss: 87.0944 - val_mean_squared_error: 87.0944\n",
      "Epoch 67/100\n",
      "123/123 [==============================] - 4s 33ms/step - loss: 507.0777 - mean_squared_error: 507.0777 - val_loss: 182.1588 - val_mean_squared_error: 182.1588\n",
      "Epoch 68/100\n",
      "123/123 [==============================] - 4s 33ms/step - loss: 486.9505 - mean_squared_error: 486.9505 - val_loss: 91.2238 - val_mean_squared_error: 91.2238\n",
      "Epoch 69/100\n",
      "123/123 [==============================] - 4s 33ms/step - loss: 438.9496 - mean_squared_error: 438.9496 - val_loss: 64.3238 - val_mean_squared_error: 64.3238\n",
      "Epoch 70/100\n",
      "123/123 [==============================] - 4s 33ms/step - loss: 436.7337 - mean_squared_error: 436.7337 - val_loss: 244.7866 - val_mean_squared_error: 244.7866\n",
      "Epoch 71/100\n",
      "123/123 [==============================] - 4s 33ms/step - loss: 460.9667 - mean_squared_error: 460.9667 - val_loss: 60.5618 - val_mean_squared_error: 60.5618\n",
      "Epoch 72/100\n",
      "123/123 [==============================] - 4s 33ms/step - loss: 448.6735 - mean_squared_error: 448.6735 - val_loss: 69.6548 - val_mean_squared_error: 69.6548\n",
      "Epoch 73/100\n",
      "123/123 [==============================] - 4s 33ms/step - loss: 496.7056 - mean_squared_error: 496.7056 - val_loss: 57.3378 - val_mean_squared_error: 57.3378\n",
      "Epoch 74/100\n",
      "123/123 [==============================] - 4s 33ms/step - loss: 458.3481 - mean_squared_error: 458.3481 - val_loss: 89.5544 - val_mean_squared_error: 89.5544\n",
      "Epoch 75/100\n",
      "123/123 [==============================] - 4s 33ms/step - loss: 444.7398 - mean_squared_error: 444.7398 - val_loss: 74.8484 - val_mean_squared_error: 74.8484\n",
      "Epoch 77/100\n",
      "123/123 [==============================] - 4s 33ms/step - loss: 440.4084 - mean_squared_error: 440.4084 - val_loss: 62.7596 - val_mean_squared_error: 62.7596\n",
      "Epoch 78/100\n",
      "123/123 [==============================] - 4s 33ms/step - loss: 433.3617 - mean_squared_error: 433.3617 - val_loss: 215.9041 - val_mean_squared_error: 215.9041\n",
      "Epoch 79/100\n",
      "123/123 [==============================] - 4s 33ms/step - loss: 426.4611 - mean_squared_error: 426.4611 - val_loss: 65.7549 - val_mean_squared_error: 65.7549\n",
      "Epoch 80/100\n",
      "123/123 [==============================] - 4s 33ms/step - loss: 472.2552 - mean_squared_error: 472.2552 - val_loss: 113.1010 - val_mean_squared_error: 113.1010\n",
      "Epoch 81/100\n",
      "123/123 [==============================] - 4s 33ms/step - loss: 471.1208 - mean_squared_error: 471.1208 - val_loss: 67.2780 - val_mean_squared_error: 67.2780\n",
      "Epoch 82/100\n",
      "123/123 [==============================] - 4s 33ms/step - loss: 407.4237 - mean_squared_error: 407.4237 - val_loss: 59.5563 - val_mean_squared_error: 59.5563\n",
      "Epoch 83/100\n",
      "123/123 [==============================] - 4s 33ms/step - loss: 417.4449 - mean_squared_error: 417.4449 - val_loss: 85.3392 - val_mean_squared_error: 85.3392\n",
      "Epoch 84/100\n",
      "123/123 [==============================] - 4s 33ms/step - loss: 407.0498 - mean_squared_error: 407.0498 - val_loss: 84.9039 - val_mean_squared_error: 84.9039\n",
      "Epoch 85/100\n",
      "123/123 [==============================] - 4s 33ms/step - loss: 451.8602 - mean_squared_error: 451.8602 - val_loss: 43.1568 - val_mean_squared_error: 43.1568\n",
      "Epoch 86/100\n",
      "123/123 [==============================] - 4s 33ms/step - loss: 442.2375 - mean_squared_error: 442.2375 - val_loss: 208.9175 - val_mean_squared_error: 208.9175\n",
      "Epoch 87/100\n",
      "123/123 [==============================] - 4s 33ms/step - loss: 456.1779 - mean_squared_error: 456.1779 - val_loss: 111.6022 - val_mean_squared_error: 111.6022\n",
      "Epoch 88/100\n",
      "123/123 [==============================] - 4s 33ms/step - loss: 513.1536 - mean_squared_error: 513.1536 - val_loss: 391.9765 - val_mean_squared_error: 391.9765\n",
      "Epoch 89/100\n",
      "123/123 [==============================] - 4s 33ms/step - loss: 418.9355 - mean_squared_error: 418.9355 - val_loss: 73.0015 - val_mean_squared_error: 73.0015\n",
      "Epoch 90/100\n",
      "123/123 [==============================] - 4s 33ms/step - loss: 507.6247 - mean_squared_error: 507.6247 - val_loss: 39.1813 - val_mean_squared_error: 39.1813\n",
      "Epoch 91/100\n",
      "123/123 [==============================] - 4s 33ms/step - loss: 431.8072 - mean_squared_error: 431.8072 - val_loss: 73.7897 - val_mean_squared_error: 73.7897\n",
      "Epoch 92/100\n",
      "123/123 [==============================] - 4s 33ms/step - loss: 427.5443 - mean_squared_error: 427.5443 - val_loss: 169.0987 - val_mean_squared_error: 169.0987\n",
      "Epoch 93/100\n",
      "123/123 [==============================] - 4s 33ms/step - loss: 425.1895 - mean_squared_error: 425.1895 - val_loss: 89.8167 - val_mean_squared_error: 89.8167\n",
      "Epoch 94/100\n",
      "123/123 [==============================] - 4s 33ms/step - loss: 389.7571 - mean_squared_error: 389.7571 - val_loss: 41.3776 - val_mean_squared_error: 41.3776\n",
      "Epoch 95/100\n",
      "123/123 [==============================] - 4s 33ms/step - loss: 412.8057 - mean_squared_error: 412.8057 - val_loss: 44.7139 - val_mean_squared_error: 44.7139\n",
      "Epoch 96/100\n",
      "123/123 [==============================] - 4s 33ms/step - loss: 379.8174 - mean_squared_error: 379.8174 - val_loss: 66.4388 - val_mean_squared_error: 66.4388\n"
     ]
    },
    {
     "name": "stdout",
     "output_type": "stream",
     "text": [
      "Epoch 97/100\n",
      "123/123 [==============================] - 4s 33ms/step - loss: 455.8645 - mean_squared_error: 455.8645 - val_loss: 50.4777 - val_mean_squared_error: 50.4777\n",
      "Epoch 98/100\n",
      "123/123 [==============================] - 4s 33ms/step - loss: 404.7801 - mean_squared_error: 404.7801 - val_loss: 37.7688 - val_mean_squared_error: 37.7688\n",
      "Epoch 99/100\n",
      "123/123 [==============================] - 4s 33ms/step - loss: 436.4151 - mean_squared_error: 436.4151 - val_loss: 59.1982 - val_mean_squared_error: 59.1982\n",
      "Epoch 100/100\n",
      "123/123 [==============================] - 4s 33ms/step - loss: 503.0557 - mean_squared_error: 503.0557 - val_loss: 129.6378 - val_mean_squared_error: 129.6378\n"
     ]
    }
   ],
   "source": [
    "# Train the model with the parameters specified below\n",
    "model.compile(loss='mean_squared_error',\n",
    "              optimizer='adam',\n",
    "              metrics=['mean_squared_error'])\n",
    "\n",
    "history = model.fit(X_train, y_train, batch_size=16, epochs=100, validation_split=0.3)"
   ]
  },
  {
   "cell_type": "code",
   "execution_count": 9,
   "metadata": {},
   "outputs": [
    {
     "data": {
      "image/png": "[encoded data removed]",
      "text/plain": [
       "<Figure size 720x432 with 1 Axes>"
      ]
     },
     "metadata": {
      "needs_background": "light"
     },
     "output_type": "display_data"
    }
   ],
   "source": [
    "# Plot the model training and validation loss\n",
    "plt.figure(figsize=(10,6))\n",
    "plt.plot(history.history['loss'])\n",
    "plt.plot(history.history['val_loss'], linestyle='dashed',)\n",
    "plt.ylabel('Loss', fontsize=16)\n",
    "plt.xlabel('Epoch', fontsize=16)\n",
    "plt.legend(['train', 'val'], loc='upper right', fontsize=16)\n",
    "plt.xticks(fontsize=14)\n",
    "plt.yticks(fontsize=14)\n",
    "#plt.savefig('regression_model_loss.pdf')\n",
    "plt.show()"
   ]
  },
  {
   "cell_type": "code",
   "execution_count": 10,
   "metadata": {},
   "outputs": [
    {
     "name": "stdout",
     "output_type": "stream",
     "text": [
      "INFO:tensorflow:Assets written to: laser_autofocus_regression.model/assets\n"
     ]
    }
   ],
   "source": [
    "# Save the model\n",
    "model.save('laser_autofocus_regression.model')"
   ]
  },
  {
   "cell_type": "markdown",
   "metadata": {},
   "source": [
    "## Load and test the model"
   ]
  },
  {
   "cell_type": "code",
   "execution_count": 17,
   "metadata": {},
   "outputs": [],
   "source": [
    "# Load the model\n",
    "model = tf.keras.models.load_model('laser_autofocus_regression.model')"
   ]
  },
  {
   "cell_type": "code",
   "execution_count": 18,
   "metadata": {},
   "outputs": [],
   "source": [
    "# Check the model summary and layer names if needed\n",
    "\n",
    "# model.summary()\n",
    "# for ilayer, layer in enumerate(model.layers):\n",
    "#     print(\"{:3.0f} {:10}\".format(ilayer, layer.name))"
   ]
  },
  {
   "cell_type": "code",
   "execution_count": 19,
   "metadata": {},
   "outputs": [
    {
     "name": "stdout",
     "output_type": "stream",
     "text": [
      "19/19 - 0s - loss: 84.4079 - mean_squared_error: 84.4079\n"
     ]
    }
   ],
   "source": [
    "# Load the data stored as the pickle files\n",
    "pickle_in = open(\"Data_600px/X_Test_100kHz_01mms_600px.pickle\",\"rb\")\n",
    "X_test = pickle.load(pickle_in)\n",
    "\n",
    "pickle_in = open(\"Data_600px/y_Test_100kHz_01mms_600px.pickle\",\"rb\")\n",
    "y_test = pickle.load(pickle_in)\n",
    "\n",
    "# Prepare the test data\n",
    "X_test = X_test/255.0\n",
    "y_test = np.array(y_test)\n",
    "\n",
    "# Test the model with testing images\n",
    "test_loss, test_acc = model.evaluate(X_test,  y_test, verbose=2)\n"
   ]
  },
  {
   "cell_type": "markdown",
   "metadata": {},
   "source": [
    "## Histogram of the prediction error"
   ]
  },
  {
   "cell_type": "code",
   "execution_count": 20,
   "metadata": {},
   "outputs": [],
   "source": [
    "# Predicting all test data\n",
    "ypred = model.predict(X_test)\n",
    "\n",
    "# compute the difference between the *predicted* and actual focal length\n",
    "diff = ypred.flatten() - y_test"
   ]
  },
  {
   "cell_type": "code",
   "execution_count": 21,
   "metadata": {},
   "outputs": [
    {
     "data": {
      "image/png": "[encoded data removed]",
      "text/plain": [
       "<Figure size 720x432 with 1 Axes>"
      ]
     },
     "metadata": {
      "needs_background": "light"
     },
     "output_type": "display_data"
    }
   ],
   "source": [
    "# Plot the histogram\n",
    "plt.figure(figsize=(10,6))\n",
    "plt.hist(diff, density=False, bins=30)\n",
    "plt.axvline(x=20, color='red')\n",
    "plt.axvline(x=-20, color='red')\n",
    "plt.ylabel('Number of Images', fontsize=16)\n",
    "plt.xlabel('Prediction Error (µm)', fontsize=16)\n",
    "plt.yticks(fontsize=14)\n",
    "plt.xticks(fontsize=14)\n",
    "#plt.savefig('regression_model_prediction_histogram.pdf')\n",
    "plt.show()"
   ]
  },
  {
   "cell_type": "markdown",
   "metadata": {},
   "source": [
    "## Histogram of absolute error"
   ]
  },
  {
   "cell_type": "code",
   "execution_count": 22,
   "metadata": {
    "scrolled": false
   },
   "outputs": [
    {
     "name": "stdout",
     "output_type": "stream",
     "text": [
      "96.33 of the images have absolute prediction error less than 20 µm.\n"
     ]
    },
    {
     "data": {
      "image/png": "[encoded data removed]",
      "text/plain": [
       "<Figure size 720x432 with 1 Axes>"
      ]
     },
     "metadata": {
      "needs_background": "light"
     },
     "output_type": "display_data"
    }
   ],
   "source": [
    "# Predicting all test data\n",
    "ypred = model.predict(X_test)\n",
    "\n",
    "# compute the difference between the *predicted* and actual focal length\n",
    "diff = abs(ypred.flatten() - y_test)\n",
    "\n",
    "# Percentage of values less than 20\n",
    "good_val=len(np.where(diff < 20)[0])\n",
    "total_val = len(diff)\n",
    "perc = good_val/total_val*100\n",
    "print(f\"{perc:.2f} of the images have absolute prediction error less than 20 µm.\")\n",
    "\n",
    "# Plot the histogram\n",
    "plt.figure(figsize=(10,6))\n",
    "plt.hist(diff, density=False, bins=50)\n",
    "plt.axvline(x=20, color='red')\n",
    "plt.ylabel('Number of Images', fontsize=16)\n",
    "plt.xlabel('Prediction Error (µm)', fontsize=16)\n",
    "plt.yticks(fontsize=14)\n",
    "plt.xticks(fontsize=14)\n",
    "plt.xlim([0, 45])\n",
    "#plt.savefig('regression_model_prediction_absolute_error.pdf')\n",
    "plt.show()"
   ]
  },
  {
   "cell_type": "markdown",
   "metadata": {},
   "source": [
    "# End"
   ]
  }
 ],
 "metadata": {
  "kernelspec": {
   "display_name": "Python 3 (ipykernel)",
   "language": "python",
   "name": "python3"
  },
  "language_info": {
   "codemirror_mode": {
    "name": "ipython",
    "version": 3
   },
   "file_extension": ".py",
   "mimetype": "text/x-python",
   "name": "python",
   "nbconvert_exporter": "python",
   "pygments_lexer": "ipython3",
   "version": "3.7.4"
  }
 },
 "nbformat": 4,
 "nbformat_minor": 2
}
